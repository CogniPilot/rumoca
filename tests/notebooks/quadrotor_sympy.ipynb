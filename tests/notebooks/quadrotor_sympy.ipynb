{
 "cells": [
  {
   "cell_type": "code",
   "execution_count": 1,
   "metadata": {},
   "outputs": [],
   "source": [
    "%load_ext autoreload\n",
    "%autoreload 2"
   ]
  },
  {
   "cell_type": "code",
   "execution_count": 2,
   "metadata": {},
   "outputs": [
    {
     "name": "stdout",
     "output_type": "stream",
     "text": [
      "\u001b[1m\u001b[32m    Finished\u001b[0m `dev` profile [unoptimized + debuginfo] target(s) in 0.09s\n",
      "\u001b[1m\u001b[32m     Running\u001b[0m `/home/jgoppert/git/rumoca_parol/target/debug/rumoca ../models/quadrotor.mo -t ../templates/sympy.jinja`\n"
     ]
    }
   ],
   "source": [
    "!RUST_BACKTRACE=1 cargo run -- ../models/quadrotor.mo -t ../templates/sympy.jinja > quadrotor_sympy.py"
   ]
  },
  {
   "cell_type": "code",
   "execution_count": 3,
   "metadata": {},
   "outputs": [],
   "source": [
    "import quadrotor_sympy\n",
    "import numpy as np\n",
    "import matplotlib.pyplot as plt\n",
    "\n",
    "model = quadrotor_sympy.Model()\n",
    "model.solve()"
   ]
  },
  {
   "cell_type": "code",
   "execution_count": 4,
   "metadata": {},
   "outputs": [
    {
     "data": {
      "image/png": "[encoded data removed]",
      "text/plain": [
       "<Figure size 640x480 with 1 Axes>"
      ]
     },
     "metadata": {},
     "output_type": "display_data"
    }
   ],
   "source": [
    "def f_u(t):\n",
    "    omega = 10\n",
    "    return np.array([omega, omega, omega, omega])\n",
    "\n",
    "res = model.simulate(t0=0, tf=5, dt=0.01, f_u=f_u)\n",
    "\n",
    "plt.figure()\n",
    "plt.plot(res['t'], res['x'][2, :].T);\n",
    "#plt.plot(t, u(t).T)\n",
    "plt.grid()"
   ]
  },
  {
   "cell_type": "code",
   "execution_count": 5,
   "metadata": {},
   "outputs": [
    {
     "data": {
      "text/plain": [
       "(Matrix([\n",
       " [0, 0, 0, 0, 0, 0, 1, 0,  0,    0,     1, 0,  0,  0,  0,  0],\n",
       " [0, 0, 0, 0, 0, 0, 0, 0,  0,    0,     0, 0,  0,  0,  0,  0],\n",
       " [0, 0, 0, 0, 0, 0, 0, 0, -1,    0,     0, 0,  0,  0,  0,  0],\n",
       " [0, 0, 0, 0, 0, 0, 0, 0,  0,    0,     0, 0,  0,  0,  0,  0],\n",
       " [0, 0, 0, 0, 0, 0, 0, 0,  0,    0,     0, 0,  0,  0,  0,  0],\n",
       " [0, 0, 0, 0, 0, 0, 0, 0,  0,    0,     0, 0,  0,  0,  0,  0],\n",
       " [0, 0, 0, 0, 0, 0, 0, 0,  0,    0, -9.81, 0,  0,  0,  0,  0],\n",
       " [0, 0, 0, 0, 0, 0, 0, 0,  0, 9.81,     0, 0,  0,  0,  0,  0],\n",
       " [0, 0, 0, 0, 0, 0, 0, 0,  0,    0,     0, 0,  0,  0,  0,  0],\n",
       " [0, 0, 0, 1, 0, 0, 0, 0,  0,    0,     0, 0,  0,  0,  0,  0],\n",
       " [0, 0, 0, 0, 1, 0, 0, 0,  0,    0,     0, 0,  0,  0,  0,  0],\n",
       " [0, 0, 0, 0, 0, 1, 0, 0,  0,    0,     0, 0,  0,  0,  0,  0],\n",
       " [0, 0, 0, 0, 0, 0, 0, 0,  0,    0,     0, 0, -1,  0,  0,  0],\n",
       " [0, 0, 0, 0, 0, 0, 0, 0,  0,    0,     0, 0,  0, -1,  0,  0],\n",
       " [0, 0, 0, 0, 0, 0, 0, 0,  0,    0,     0, 0,  0,  0, -1,  0],\n",
       " [0, 0, 0, 0, 0, 0, 0, 0,  0,    0,     0, 0,  0,  0,  0, -1]]),\n",
       " Matrix([\n",
       " [  0,   0,   0,   0],\n",
       " [  0,   0,   0,   0],\n",
       " [  0,   0,   0,   0],\n",
       " [  0,   0,   0,   0],\n",
       " [  0,   0,   0,   0],\n",
       " [  0,   0,   0,   0],\n",
       " [  0,   0,   0,   0],\n",
       " [  0,   0,   0,   0],\n",
       " [  0,   0,   0,   0],\n",
       " [  0,   0,   0,   0],\n",
       " [  0,   0,   0,   0],\n",
       " [  0,   0,   0,   0],\n",
       " [0.1,   0,   0,   0],\n",
       " [  0, 0.1,   0,   0],\n",
       " [  0,   0, 0.1,   0],\n",
       " [  0,   0,   0, 0.1]]),\n",
       " Matrix([\n",
       " [0, 0, 0, 0, 0, 0, 0, 0, 0, 0, 0, 0, 0, 0, 0, 0],\n",
       " [0, 0, 0, 0, 0, 0, 0, 0, 0, 0, 0, 0, 0, 0, 0, 0],\n",
       " [0, 0, 0, 0, 0, 0, 0, 0, 0, 0, 0, 0, 0, 0, 0, 0],\n",
       " [0, 0, 0, 0, 0, 0, 0, 0, 0, 0, 0, 0, 0, 0, 0, 0],\n",
       " [0, 0, 0, 0, 0, 0, 0, 0, 0, 0, 0, 0, 0, 0, 0, 0],\n",
       " [0, 0, 0, 0, 0, 0, 0, 0, 0, 0, 0, 0, 0, 0, 0, 0],\n",
       " [0, 0, 0, 0, 0, 0, 0, 0, 0, 0, 0, 0, 0, 0, 0, 0],\n",
       " [0, 0, 0, 0, 0, 0, 0, 0, 0, 0, 0, 0, 0, 0, 0, 0],\n",
       " [0, 0, 0, 0, 0, 0, 0, 0, 0, 0, 0, 0, 0, 0, 0, 0],\n",
       " [0, 0, 0, 0, 0, 0, 0, 0, 0, 0, 0, 0, 0, 0, 0, 0],\n",
       " [0, 0, 0, 0, 0, 0, 0, 0, 0, 0, 0, 0, 0, 0, 0, 0],\n",
       " [0, 0, 0, 0, 0, 0, 0, 0, 0, 0, 0, 0, 0, 0, 0, 0],\n",
       " [0, 0, 0, 0, 0, 0, 0, 0, 0, 0, 0, 0, 0, 0, 0, 0],\n",
       " [0, 0, 0, 0, 0, 0, 0, 0, 0, 0, 0, 0, 0, 0, 0, 0],\n",
       " [0, 0, 0, 0, 0, 0, 0, 0, 0, 0, 0, 0, 0, 0, 0, 0],\n",
       " [0, 0, 0, 0, 0, 0, 0, 0, 0, 0, 0, 0, 0, 0, 0, 0],\n",
       " [0, 0, 0, 0, 0, 0, 0, 0, 0, 0, 0, 0, 0, 0, 0, 0],\n",
       " [0, 0, 0, 0, 0, 0, 0, 0, 0, 0, 0, 0, 0, 0, 0, 0]]),\n",
       " Matrix([\n",
       " [0, 0, 0, 0],\n",
       " [0, 0, 0, 0],\n",
       " [0, 0, 0, 0],\n",
       " [0, 0, 0, 0],\n",
       " [0, 0, 0, 0],\n",
       " [0, 0, 0, 0],\n",
       " [0, 0, 0, 0],\n",
       " [0, 0, 0, 0],\n",
       " [0, 0, 0, 0],\n",
       " [0, 0, 0, 0],\n",
       " [1, 0, 0, 0],\n",
       " [0, 0, 0, 0],\n",
       " [0, 1, 0, 0],\n",
       " [0, 0, 0, 0],\n",
       " [0, 0, 1, 0],\n",
       " [0, 0, 0, 0],\n",
       " [0, 0, 0, 1],\n",
       " [0, 0, 0, 0]]))"
      ]
     },
     "execution_count": 5,
     "metadata": {},
     "output_type": "execute_result"
    }
   ],
   "source": [
    "# linearization\n",
    "A = model.sol_x_dot.jacobian(model.x).subs(model.x0).subs(model.p0).subs(model.u0)\n",
    "B = model.sol_x_dot.jacobian(model.u).subs(model.x0).subs(model.p0).subs(model.u0)\n",
    "C = model.sol_y.jacobian(model.x).subs(model.x0).subs(model.p0).subs(model.u0)\n",
    "D = model.sol_y.jacobian(model.u).subs(model.x0).subs(model.p0).subs(model.u0)\n",
    "\n",
    "(A, B, C, D)"
   ]
  }
 ],
 "metadata": {
  "kernelspec": {
   "display_name": "Python 3",
   "language": "python",
   "name": "python3"
  },
  "language_info": {
   "codemirror_mode": {
    "name": "ipython",
    "version": 3
   },
   "file_extension": ".py",
   "mimetype": "text/x-python",
   "name": "python",
   "nbconvert_exporter": "python",
   "pygments_lexer": "ipython3",
   "version": "3.12.3"
  }
 },
 "nbformat": 4,
 "nbformat_minor": 2
}
