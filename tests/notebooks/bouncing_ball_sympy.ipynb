{
 "cells": [
  {
   "cell_type": "code",
   "execution_count": 1,
   "metadata": {},
   "outputs": [
    {
     "name": "stdout",
     "output_type": "stream",
     "text": [
      "\u001b[1m\u001b[32m    Finished\u001b[0m `dev` profile [unoptimized + debuginfo] target(s) in 0.15s\n",
      "\u001b[1m\u001b[32m     Running\u001b[0m `/home/jgoppert/git/rumoca_parol/target/debug/rumoca ../models/bouncing_ball.mo -t ../templates/sympy.jinja`\n"
     ]
    }
   ],
   "source": [
    "!RUST_BACKTRACE=1 cargo run -- ../models/bouncing_ball.mo -t ../templates/sympy.jinja > bouncing_ball.py"
   ]
  },
  {
   "cell_type": "code",
   "execution_count": 2,
   "metadata": {},
   "outputs": [],
   "source": [
    "%load_ext autoreload\n",
    "%autoreload 2"
   ]
  },
  {
   "cell_type": "code",
   "execution_count": 3,
   "metadata": {},
   "outputs": [],
   "source": [
    "import bouncing_ball"
   ]
  },
  {
   "cell_type": "code",
   "execution_count": 5,
   "metadata": {},
   "outputs": [],
   "source": [
    "#model = bouncing_ball.Model()\n",
    "#model"
   ]
  }
 ],
 "metadata": {
  "kernelspec": {
   "display_name": "aae364",
   "language": "python",
   "name": "python3"
  },
  "language_info": {
   "codemirror_mode": {
    "name": "ipython",
    "version": 3
   },
   "file_extension": ".py",
   "mimetype": "text/x-python",
   "name": "python",
   "nbconvert_exporter": "python",
   "pygments_lexer": "ipython3",
   "version": "3.13.1"
  }
 },
 "nbformat": 4,
 "nbformat_minor": 2
}
