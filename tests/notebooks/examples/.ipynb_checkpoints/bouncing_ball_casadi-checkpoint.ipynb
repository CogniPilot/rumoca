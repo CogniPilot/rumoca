{
 "cells": [
  {
   "cell_type": "code",
   "execution_count": 12,
   "metadata": {},
   "outputs": [
    {
     "name": "stdout",
     "output_type": "stream",
     "text": [
      "The autoreload extension is already loaded. To reload it, use:\n",
      "  %reload_ext autoreload\n",
      "lexer invalid token InvalidToken\n"
     ]
    }
   ],
   "source": [
    "%load_ext autoreload\n",
    "%autoreload 2\n",
    "! rumoca ../../models/bouncing_ball.mo -t ../../templates/casadi_dae.jinja > bouncing_ball_ca.py"
   ]
  },
  {
   "cell_type": "code",
   "execution_count": 7,
   "metadata": {},
   "outputs": [
    {
     "ename": "SyntaxError",
     "evalue": "invalid syntax (bouncing_ball_ca.py, line 1)",
     "output_type": "error",
     "traceback": [
      "Traceback \u001b[0;36m(most recent call last)\u001b[0m:\n",
      "\u001b[0m  File \u001b[1;32m~/.local/lib/python3.12/site-packages/IPython/core/interactiveshell.py:3579\u001b[0m in \u001b[1;35mrun_code\u001b[0m\n    exec(code_obj, self.user_global_ns, self.user_ns)\u001b[0m\n",
      "\u001b[0;36m  Cell \u001b[0;32mIn[7], line 1\u001b[0;36m\n\u001b[0;31m    import bouncing_ball_ca\u001b[0;36m\n",
      "\u001b[0;36m  File \u001b[0;32m~/Research/devlopment/rumoca/tests/notebooks/examples/bouncing_ball_ca.py:1\u001b[0;36m\u001b[0m\n\u001b[0;31m    lexer invalid token InvalidToken\u001b[0m\n\u001b[0m          ^\u001b[0m\n\u001b[0;31mSyntaxError\u001b[0m\u001b[0;31m:\u001b[0m invalid syntax\n"
     ]
    }
   ],
   "source": [
    "import bouncing_ball_ca\n",
    "import matplotlib.pyplot as plt\n",
    "\n",
    "model = bouncing_ball_ca.Model(\"bouncing_ball\")\n",
    "tgrid, res = model.simulate(t0=0, tf=8, dt=0.01)\n",
    "\n",
    "plt.plot(tgrid, res['xf'].T, label=model.dae.x())\n",
    "\n",
    "# Set axis label and tick font sizes\n",
    "plt.xlabel(\"Time (s)\", fontsize=16)\n",
    "plt.ylabel(\"State\", fontsize=16)\n",
    "plt.tick_params(axis='both', which='major', labelsize=14)\n",
    "\n",
    "# Make legend font larger\n",
    "plt.legend(fontsize=14)\n",
    "plt.grid()\n",
    "\n",
    "# Save without cutting off labels\n",
    "plt.savefig(\"casadi_bouncing_ball.pdf\", bbox_inches='tight')\n",
    "\n",
    "plt.show()"
   ]
  }
 ],
 "metadata": {
  "kernelspec": {
   "display_name": "Python 3 (ipykernel)",
   "language": "python",
   "name": "python3"
  },
  "language_info": {
   "codemirror_mode": {
    "name": "ipython",
    "version": 3
   },
   "file_extension": ".py",
   "mimetype": "text/x-python",
   "name": "python",
   "nbconvert_exporter": "python",
   "pygments_lexer": "ipython3",
   "version": "3.12.3"
  }
 },
 "nbformat": 4,
 "nbformat_minor": 4
}
