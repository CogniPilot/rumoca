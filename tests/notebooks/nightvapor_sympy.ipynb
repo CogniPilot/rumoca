{
 "cells": [
  {
   "cell_type": "code",
   "execution_count": 1,
   "id": "882ade3a",
   "metadata": {},
   "outputs": [
    {
     "name": "stdout",
     "output_type": "stream",
     "text": [
      "\u001b[1m\u001b[32m    Finished\u001b[0m `dev` profile [unoptimized + debuginfo] target(s) in 0.07s\n",
      "\u001b[1m\u001b[32m     Running\u001b[0m `/home/jgoppert/git/rumoca/target/debug/rumoca ../models/nightvapor.mo -t ../templates/sympy.jinja`\n"
     ]
    }
   ],
   "source": [
    "%load_ext autoreload\n",
    "%autoreload 2\n",
    "!RUST_BACKTRACE=1 cargo run -- ../models/nightvapor.mo -t ../templates/sympy.jinja > gen/nightvapor.py"
   ]
  },
  {
   "cell_type": "code",
   "execution_count": 2,
   "id": "f23bb7f9",
   "metadata": {},
   "outputs": [],
   "source": [
    "import gen.nightvapor as nightvapor\n",
    "import numpy as np\n",
    "import matplotlib.pyplot as plt\n",
    "\n",
    "model = nightvapor.Model()\n",
    "#model.solve()\n",
    "#model.x0['h'] = 6\n",
    "#res = model.simulate(t0=0, tf=20, dt=0.1)\n",
    "#plt.plot(res['t'], res['x'].T)\n",
    "#plt.grid()"
   ]
  }
 ],
 "metadata": {
  "kernelspec": {
   "display_name": "rumoca (3.12.3)",
   "language": "python",
   "name": "python3"
  },
  "language_info": {
   "codemirror_mode": {
    "name": "ipython",
    "version": 3
   },
   "file_extension": ".py",
   "mimetype": "text/x-python",
   "name": "python",
   "nbconvert_exporter": "python",
   "pygments_lexer": "ipython3",
   "version": "3.12.3"
  }
 },
 "nbformat": 4,
 "nbformat_minor": 5
}
