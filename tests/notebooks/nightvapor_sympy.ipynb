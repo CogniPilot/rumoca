{
 "cells": [
  {
   "cell_type": "code",
   "execution_count": 7,
   "id": "882ade3a",
   "metadata": {},
   "outputs": [
    {
     "name": "stdout",
     "output_type": "stream",
     "text": [
      "\n",
      "\u001b[1m[\u001b[0m\u001b[34;49mnotice\u001b[0m\u001b[1;39;49m]\u001b[0m\u001b[39;49m A new release of pip is available: \u001b[0m\u001b[31;49m25.1.1\u001b[0m\u001b[39;49m -> \u001b[0m\u001b[32;49m25.2\u001b[0m\n",
      "\u001b[1m[\u001b[0m\u001b[34;49mnotice\u001b[0m\u001b[1;39;49m]\u001b[0m\u001b[39;49m To update, run: \u001b[0m\u001b[32;49mpip install --upgrade pip\u001b[0m\n",
      "Note: you may need to restart the kernel to use updated packages.\n",
      "The autoreload extension is already loaded. To reload it, use:\n",
      "  %reload_ext autoreload\n",
      "\u001b[1m\u001b[32m    Finished\u001b[0m `dev` profile [unoptimized + debuginfo] target(s) in 0.08s\n",
      "\u001b[1m\u001b[32m     Running\u001b[0m `/home/jgoppert/git/rumoca/target/debug/rumoca ../models/nightvapor.mo -t ../templates/sympy.jinja`\n"
     ]
    }
   ],
   "source": [
    "%pip install -q sympy numpy matplotlib scipy\n",
    "%load_ext autoreload\n",
    "%autoreload 2\n",
    "!RUST_BACKTRACE=1 cargo run -- ../models/nightvapor.mo -t ../templates/sympy.jinja > nightvapor.py"
   ]
  },
  {
   "cell_type": "code",
   "execution_count": 8,
   "id": "f23bb7f9",
   "metadata": {},
   "outputs": [
    {
     "ename": "ValueError",
     "evalue": "too many values to unpack (expected 2)",
     "output_type": "error",
     "traceback": [
      "\u001b[31m---------------------------------------------------------------------------\u001b[39m",
      "\u001b[31mValueError\u001b[39m                                Traceback (most recent call last)",
      "\u001b[36mCell\u001b[39m\u001b[36m \u001b[39m\u001b[32mIn[8]\u001b[39m\u001b[32m, line 6\u001b[39m\n\u001b[32m      3\u001b[39m \u001b[38;5;28;01mimport\u001b[39;00m\u001b[38;5;250m \u001b[39m\u001b[34;01mmatplotlib\u001b[39;00m\u001b[34;01m.\u001b[39;00m\u001b[34;01mpyplot\u001b[39;00m\u001b[38;5;250m \u001b[39m\u001b[38;5;28;01mas\u001b[39;00m\u001b[38;5;250m \u001b[39m\u001b[34;01mplt\u001b[39;00m\n\u001b[32m      5\u001b[39m model = nightvapor.Model()\n\u001b[32m----> \u001b[39m\u001b[32m6\u001b[39m \u001b[43mmodel\u001b[49m\u001b[43m.\u001b[49m\u001b[43msolve\u001b[49m\u001b[43m(\u001b[49m\u001b[43m)\u001b[49m\n\u001b[32m      7\u001b[39m \u001b[38;5;66;03m#model.x0['h'] = 6\u001b[39;00m\n\u001b[32m      8\u001b[39m \u001b[38;5;66;03m#res = model.simulate(t0=0, tf=20, dt=0.1)\u001b[39;00m\n\u001b[32m      9\u001b[39m \u001b[38;5;66;03m#plt.plot(res['t'], res['x'].T)\u001b[39;00m\n\u001b[32m     10\u001b[39m \u001b[38;5;66;03m#plt.grid()\u001b[39;00m\n",
      "\u001b[36mFile \u001b[39m\u001b[32m~/git/rumoca/tests/notebooks/nightvapor.py:442\u001b[39m, in \u001b[36mModel.solve\u001b[39m\u001b[34m(self)\u001b[39m\n\u001b[32m    440\u001b[39m \u001b[38;5;28;01melse\u001b[39;00m:\n\u001b[32m    441\u001b[39m     sol = sympy.solve(\u001b[38;5;28mself\u001b[39m.fx, v)\n\u001b[32m--> \u001b[39m\u001b[32m442\u001b[39m     \u001b[38;5;28mself\u001b[39m.sol_x_dot = sympy.Tuple(* [xi \u001b[38;5;28;01mfor\u001b[39;00m xi \u001b[38;5;129;01min\u001b[39;00m \u001b[38;5;28;43mself\u001b[39;49m\u001b[43m.\u001b[49m\u001b[43mx_dot\u001b[49m\u001b[43m.\u001b[49m\u001b[43msubs\u001b[49m\u001b[43m(\u001b[49m\u001b[43msol\u001b[49m\u001b[43m)\u001b[49m])\n\u001b[32m    443\u001b[39m     \u001b[38;5;28mself\u001b[39m.sol_y = sympy.Tuple(* [yi \u001b[38;5;28;01mfor\u001b[39;00m yi \u001b[38;5;129;01min\u001b[39;00m \u001b[38;5;28mself\u001b[39m.y.subs(sol)])\n\u001b[32m    445\u001b[39m \u001b[38;5;28mself\u001b[39m.f_x_dot = sympy.lambdify(\n\u001b[32m    446\u001b[39m     args=[\u001b[38;5;28mself\u001b[39m.time, \u001b[38;5;28mself\u001b[39m.x, \u001b[38;5;28mself\u001b[39m.m, \u001b[38;5;28mself\u001b[39m.u, \u001b[38;5;28mself\u001b[39m.p, \u001b[38;5;28mself\u001b[39m.c],\n\u001b[32m    447\u001b[39m     expr=\u001b[38;5;28mself\u001b[39m.sol_x_dot,\n\u001b[32m    448\u001b[39m     modules=[\u001b[33m'\u001b[39m\u001b[33mnumpy\u001b[39m\u001b[33m'\u001b[39m])\n",
      "\u001b[36mFile \u001b[39m\u001b[32m~/git/rumoca/.venv/lib/python3.12/site-packages/sympy/matrices/matrixbase.py:2489\u001b[39m, in \u001b[36mMatrixBase.subs\u001b[39m\u001b[34m(self, *args, **kwargs)\u001b[39m\n\u001b[32m   2486\u001b[39m \u001b[38;5;28;01mif\u001b[39;00m \u001b[38;5;28mlen\u001b[39m(args) == \u001b[32m1\u001b[39m \u001b[38;5;129;01mand\u001b[39;00m  \u001b[38;5;129;01mnot\u001b[39;00m \u001b[38;5;28misinstance\u001b[39m(args[\u001b[32m0\u001b[39m], (\u001b[38;5;28mdict\u001b[39m, \u001b[38;5;28mset\u001b[39m)) \u001b[38;5;129;01mand\u001b[39;00m \u001b[38;5;28miter\u001b[39m(args[\u001b[32m0\u001b[39m]) \u001b[38;5;129;01mand\u001b[39;00m \u001b[38;5;129;01mnot\u001b[39;00m is_sequence(args[\u001b[32m0\u001b[39m]):\n\u001b[32m   2487\u001b[39m     args = (\u001b[38;5;28mlist\u001b[39m(args[\u001b[32m0\u001b[39m]),)\n\u001b[32m-> \u001b[39m\u001b[32m2489\u001b[39m \u001b[38;5;28;01mreturn\u001b[39;00m \u001b[38;5;28;43mself\u001b[39;49m\u001b[43m.\u001b[49m\u001b[43mapplyfunc\u001b[49m\u001b[43m(\u001b[49m\u001b[38;5;28;43;01mlambda\u001b[39;49;00m\u001b[43m \u001b[49m\u001b[43mx\u001b[49m\u001b[43m:\u001b[49m\u001b[43m \u001b[49m\u001b[43mx\u001b[49m\u001b[43m.\u001b[49m\u001b[43msubs\u001b[49m\u001b[43m(\u001b[49m\u001b[43m*\u001b[49m\u001b[43margs\u001b[49m\u001b[43m,\u001b[49m\u001b[43m \u001b[49m\u001b[43m*\u001b[49m\u001b[43m*\u001b[49m\u001b[43mkwargs\u001b[49m\u001b[43m)\u001b[49m\u001b[43m)\u001b[49m\n",
      "\u001b[36mFile \u001b[39m\u001b[32m~/git/rumoca/.venv/lib/python3.12/site-packages/sympy/matrices/matrixbase.py:2108\u001b[39m, in \u001b[36mMatrixBase.applyfunc\u001b[39m\u001b[34m(self, f)\u001b[39m\n\u001b[32m   2105\u001b[39m \u001b[38;5;28;01mif\u001b[39;00m \u001b[38;5;129;01mnot\u001b[39;00m \u001b[38;5;28mcallable\u001b[39m(f):\n\u001b[32m   2106\u001b[39m     \u001b[38;5;28;01mraise\u001b[39;00m \u001b[38;5;167;01mTypeError\u001b[39;00m(\u001b[33m\"\u001b[39m\u001b[33m`f` must be callable.\u001b[39m\u001b[33m\"\u001b[39m)\n\u001b[32m-> \u001b[39m\u001b[32m2108\u001b[39m \u001b[38;5;28;01mreturn\u001b[39;00m \u001b[38;5;28;43mself\u001b[39;49m\u001b[43m.\u001b[49m\u001b[43m_eval_applyfunc\u001b[49m\u001b[43m(\u001b[49m\u001b[43mf\u001b[49m\u001b[43m)\u001b[49m\n",
      "\u001b[36mFile \u001b[39m\u001b[32m~/git/rumoca/.venv/lib/python3.12/site-packages/sympy/matrices/matrixbase.py:2040\u001b[39m, in \u001b[36mMatrixBase._eval_applyfunc\u001b[39m\u001b[34m(self, f)\u001b[39m\n\u001b[32m   2037\u001b[39m size = \u001b[38;5;28mself\u001b[39m.rows*\u001b[38;5;28mself\u001b[39m.cols\n\u001b[32m   2039\u001b[39m dok = \u001b[38;5;28mself\u001b[39m.todok()\n\u001b[32m-> \u001b[39m\u001b[32m2040\u001b[39m valmap = {v: \u001b[43mf\u001b[49m\u001b[43m(\u001b[49m\u001b[43mv\u001b[49m\u001b[43m)\u001b[49m \u001b[38;5;28;01mfor\u001b[39;00m v \u001b[38;5;129;01min\u001b[39;00m dok.values()}\n\u001b[32m   2042\u001b[39m \u001b[38;5;28;01mif\u001b[39;00m \u001b[38;5;28mlen\u001b[39m(dok) < size \u001b[38;5;129;01mand\u001b[39;00m ((fzero := f(S.Zero)) \u001b[38;5;129;01mis\u001b[39;00m \u001b[38;5;129;01mnot\u001b[39;00m S.Zero):\n\u001b[32m   2043\u001b[39m     out_flat = [fzero]*size\n",
      "\u001b[36mFile \u001b[39m\u001b[32m~/git/rumoca/.venv/lib/python3.12/site-packages/sympy/matrices/matrixbase.py:2489\u001b[39m, in \u001b[36mMatrixBase.subs.<locals>.<lambda>\u001b[39m\u001b[34m(x)\u001b[39m\n\u001b[32m   2486\u001b[39m \u001b[38;5;28;01mif\u001b[39;00m \u001b[38;5;28mlen\u001b[39m(args) == \u001b[32m1\u001b[39m \u001b[38;5;129;01mand\u001b[39;00m  \u001b[38;5;129;01mnot\u001b[39;00m \u001b[38;5;28misinstance\u001b[39m(args[\u001b[32m0\u001b[39m], (\u001b[38;5;28mdict\u001b[39m, \u001b[38;5;28mset\u001b[39m)) \u001b[38;5;129;01mand\u001b[39;00m \u001b[38;5;28miter\u001b[39m(args[\u001b[32m0\u001b[39m]) \u001b[38;5;129;01mand\u001b[39;00m \u001b[38;5;129;01mnot\u001b[39;00m is_sequence(args[\u001b[32m0\u001b[39m]):\n\u001b[32m   2487\u001b[39m     args = (\u001b[38;5;28mlist\u001b[39m(args[\u001b[32m0\u001b[39m]),)\n\u001b[32m-> \u001b[39m\u001b[32m2489\u001b[39m \u001b[38;5;28;01mreturn\u001b[39;00m \u001b[38;5;28mself\u001b[39m.applyfunc(\u001b[38;5;28;01mlambda\u001b[39;00m x: \u001b[43mx\u001b[49m\u001b[43m.\u001b[49m\u001b[43msubs\u001b[49m\u001b[43m(\u001b[49m\u001b[43m*\u001b[49m\u001b[43margs\u001b[49m\u001b[43m,\u001b[49m\u001b[43m \u001b[49m\u001b[43m*\u001b[49m\u001b[43m*\u001b[49m\u001b[43mkwargs\u001b[49m\u001b[43m)\u001b[49m)\n",
      "\u001b[36mFile \u001b[39m\u001b[32m~/git/rumoca/.venv/lib/python3.12/site-packages/sympy/core/basic.py:1122\u001b[39m, in \u001b[36mBasic.subs\u001b[39m\u001b[34m(self, arg1, arg2, **kwargs)\u001b[39m\n\u001b[32m   1119\u001b[39m     \u001b[38;5;28;01melse\u001b[39;00m:\n\u001b[32m   1120\u001b[39m         \u001b[38;5;28;01mreturn\u001b[39;00m sympify(new, strict=\u001b[38;5;28;01mTrue\u001b[39;00m)\n\u001b[32m-> \u001b[39m\u001b[32m1122\u001b[39m sequence = [(sympify_old(s1), sympify_new(s2)) \u001b[38;5;28;01mfor\u001b[39;00m s1, s2 \u001b[38;5;129;01min\u001b[39;00m items]\n\u001b[32m   1124\u001b[39m \u001b[38;5;66;03m# skip if there is no change\u001b[39;00m\n\u001b[32m   1125\u001b[39m sequence = [(s1, s2) \u001b[38;5;28;01mfor\u001b[39;00m s1, s2 \u001b[38;5;129;01min\u001b[39;00m sequence \u001b[38;5;28;01mif\u001b[39;00m \u001b[38;5;129;01mnot\u001b[39;00m _aresame(s1, s2)]\n",
      "\u001b[31mValueError\u001b[39m: too many values to unpack (expected 2)"
     ]
    }
   ],
   "source": [
    "import nightvapor\n",
    "import numpy as np\n",
    "import matplotlib.pyplot as plt\n",
    "\n",
    "model = nightvapor.Model()\n",
    "model.solve()\n",
    "#model.x0['h'] = 6\n",
    "#res = model.simulate(t0=0, tf=20, dt=0.1)\n",
    "#plt.plot(res['t'], res['x'].T)\n",
    "#plt.grid()"
   ]
  },
  {
   "cell_type": "code",
   "execution_count": null,
   "id": "ce6f3ca6",
   "metadata": {},
   "outputs": [],
   "source": []
  },
  {
   "cell_type": "code",
   "execution_count": null,
   "id": "a4899854",
   "metadata": {},
   "outputs": [],
   "source": []
  }
 ],
 "metadata": {
  "kernelspec": {
   "display_name": ".venv (3.12.3)",
   "language": "python",
   "name": "python3"
  },
  "language_info": {
   "codemirror_mode": {
    "name": "ipython",
    "version": 3
   },
   "file_extension": ".py",
   "mimetype": "text/x-python",
   "name": "python",
   "nbconvert_exporter": "python",
   "pygments_lexer": "ipython3",
   "version": "3.12.3"
  }
 },
 "nbformat": 4,
 "nbformat_minor": 5
}
