{
 "cells": [
  {
   "cell_type": "code",
   "execution_count": 1,
   "metadata": {},
   "outputs": [
    {
     "name": "stdout",
     "output_type": "stream",
     "text": [
      "\u001b[1m\u001b[32m    Finished\u001b[0m `dev` profile [unoptimized + debuginfo] target(s) in 0.08s\n",
      "\u001b[1m\u001b[32m     Running\u001b[0m `/home/jgoppert/git/rumoca_parol/target/debug/rumoca ../models/simple_circuit.mo -t ../templates/sympy.jinja`\n"
     ]
    }
   ],
   "source": [
    "%load_ext autoreload\n",
    "%autoreload 2\n",
    "!RUST_BACKTRACE=1 cargo run -- ../models/simple_circuit.mo -t ../templates/sympy.jinja > simple_circuit.py"
   ]
  },
  {
   "cell_type": "code",
   "execution_count": 2,
   "metadata": {},
   "outputs": [],
   "source": [
    "# import simple_circuit\n",
    "# import numpy as np\n",
    "# import matplotlib.pyplot as plt\n",
    "\n",
    "# model = simple_circuit.Model()\n",
    "# model.solve()\n",
    "# res = model.simulate(t0=0, tf=20, dt=0.1)\n",
    "# plt.plot(res['t'], res['x'].T)\n",
    "# plt.grid()"
   ]
  }
 ],
 "metadata": {
  "kernelspec": {
   "display_name": ".venv",
   "language": "python",
   "name": "python3"
  },
  "language_info": {
   "codemirror_mode": {
    "name": "ipython",
    "version": 3
   },
   "file_extension": ".py",
   "mimetype": "text/x-python",
   "name": "python",
   "nbconvert_exporter": "python",
   "pygments_lexer": "ipython3",
   "version": "3.12.3"
  }
 },
 "nbformat": 4,
 "nbformat_minor": 2
}
