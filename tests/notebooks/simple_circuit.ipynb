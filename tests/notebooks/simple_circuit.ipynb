{
 "cells": [
  {
   "cell_type": "code",
   "execution_count": 2,
   "metadata": {},
   "outputs": [
    {
     "name": "stdout",
     "output_type": "stream",
     "text": [
      "The autoreload extension is already loaded. To reload it, use:\n",
      "  %reload_ext autoreload\n",
      "Note: you may need to restart the kernel to use updated packages.\n",
      "\u001b[1m\u001b[32m    Finished\u001b[0m `dev` profile [unoptimized + debuginfo] target(s) in 0.13s\n",
      "\u001b[1m\u001b[32m     Running\u001b[0m `/home/jgoppert/git/rumoca/target/debug/rumoca ../models/simple_circuit.mo -t ../templates/sympy.jinja`\n",
      "\n",
      "thread 'main' panicked at src/ir/create_dae.rs:99:17:\n",
      "connection equations should already by expanded in flatten\n",
      "stack backtrace:\n",
      "   0: __rustc::rust_begin_unwind\n",
      "             at /rustc/29483883eed69d5fb4db01964cdf2af4d86e9cb2/library/std/src/panicking.rs:697:5\n",
      "   1: core::panicking::panic_fmt\n",
      "             at /rustc/29483883eed69d5fb4db01964cdf2af4d86e9cb2/library/core/src/panicking.rs:75:14\n",
      "   2: rumoca::ir::create_dae::create_dae\n",
      "             at /home/jgoppert/git/rumoca/src/ir/create_dae.rs:99:17\n",
      "   3: rumoca::main\n",
      "             at /home/jgoppert/git/rumoca/src/main.rs:93:23\n",
      "   4: core::ops::function::FnOnce::call_once\n",
      "             at /rustc/29483883eed69d5fb4db01964cdf2af4d86e9cb2/library/core/src/ops/function.rs:250:5\n",
      "note: Some details are omitted, run with `RUST_BACKTRACE=full` for a verbose backtrace.\n"
     ]
    }
   ],
   "source": [
    "%load_ext autoreload\n",
    "%autoreload 2\n",
    "%pip install sympy matplotlib scipy -q\n",
    "!RUST_BACKTRACE=1 cargo run -- ../models/simple_circuit.mo -t ../templates/sympy.jinja > simple_circuit.py"
   ]
  },
  {
   "cell_type": "code",
   "execution_count": 2,
   "metadata": {},
   "outputs": [],
   "source": [
    "# import simple_circuit\n",
    "# import numpy as np\n",
    "# import matplotlib.pyplot as plt\n",
    "\n",
    "# model = simple_circuit.Model()\n",
    "# model.solve()\n",
    "# res = model.simulate(t0=0, tf=20, dt=0.1)\n",
    "# plt.plot(res['t'], res['x'].T)\n",
    "# plt.grid()"
   ]
  }
 ],
 "metadata": {
  "kernelspec": {
   "display_name": ".venv",
   "language": "python",
   "name": "python3"
  },
  "language_info": {
   "codemirror_mode": {
    "name": "ipython",
    "version": 3
   },
   "file_extension": ".py",
   "mimetype": "text/x-python",
   "name": "python",
   "nbconvert_exporter": "python",
   "pygments_lexer": "ipython3",
   "version": "3.12.3"
  }
 },
 "nbformat": 4,
 "nbformat_minor": 2
}
