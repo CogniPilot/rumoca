{
 "cells": [
  {
   "cell_type": "code",
   "execution_count": 1,
   "metadata": {},
   "outputs": [
    {
     "name": "stdout",
     "output_type": "stream",
     "text": [
      "\u001b[1m\u001b[32m    Finished\u001b[0m `dev` profile [unoptimized + debuginfo] target(s) in 0.09s\n",
      "\u001b[1m\u001b[32m     Running\u001b[0m `/home/jgoppert/git/rumoca/target/debug/rumoca ../models/simple_circuit.mo -t ../templates/sympy.jinja`\n",
      "\n",
      "thread 'main' panicked at src/ir/create_dae.rs:105:17:\n",
      "connection equations should already by expanded in flatten\n",
      "stack backtrace:\n",
      "   0: __rustc::rust_begin_unwind\n",
      "             at /rustc/092a284ba0421695f2032c947765429fd7095796/library/std/src/panicking.rs:697:5\n",
      "   1: core::panicking::panic_fmt\n",
      "             at /rustc/092a284ba0421695f2032c947765429fd7095796/library/core/src/panicking.rs:75:14\n",
      "   2: rumoca::ir::create_dae::create_dae\n",
      "             at /home/jgoppert/git/rumoca/src/ir/create_dae.rs:105:17\n",
      "   3: rumoca::main\n",
      "             at /home/jgoppert/git/rumoca/src/main.rs:95:27\n",
      "   4: core::ops::function::FnOnce::call_once\n",
      "             at /home/jgoppert/.rustup/toolchains/nightly-x86_64-unknown-linux-gnu/lib/rustlib/src/rust/library/core/src/ops/function.rs:250:5\n",
      "note: Some details are omitted, run with `RUST_BACKTRACE=full` for a verbose backtrace.\n"
     ]
    }
   ],
   "source": [
    "%load_ext autoreload\n",
    "%autoreload 2\n",
    "!RUST_BACKTRACE=1 cargo run -- ../models/simple_circuit.mo -t ../templates/sympy.jinja > simple_circuit.py"
   ]
  },
  {
   "cell_type": "code",
   "execution_count": 2,
   "metadata": {},
   "outputs": [],
   "source": [
    "# import simple_circuit\n",
    "# import numpy as np\n",
    "# import matplotlib.pyplot as plt\n",
    "\n",
    "# model = simple_circuit.Model()\n",
    "# model.solve()\n",
    "# res = model.simulate(t0=0, tf=20, dt=0.1)\n",
    "# plt.plot(res['t'], res['x'].T)\n",
    "# plt.grid()"
   ]
  }
 ],
 "metadata": {
  "kernelspec": {
   "display_name": "rumoca (3.12.3)",
   "language": "python",
   "name": "python3"
  },
  "language_info": {
   "codemirror_mode": {
    "name": "ipython",
    "version": 3
   },
   "file_extension": ".py",
   "mimetype": "text/x-python",
   "name": "python",
   "nbconvert_exporter": "python",
   "pygments_lexer": "ipython3",
   "version": "3.12.3"
  }
 },
 "nbformat": 4,
 "nbformat_minor": 2
}
